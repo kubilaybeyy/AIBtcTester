{
 "cells": [
  {
   "cell_type": "code",
   "execution_count": 1,
   "id": "dc0be084-984f-40f8-8a1e-58d215aa9335",
   "metadata": {},
   "outputs": [
    {
     "name": "stdout",
     "output_type": "stream",
     "text": [
      "Requirement already satisfied: pandas in /home/kubilaybey/anaconda3/lib/python3.12/site-packages (2.2.2)\n",
      "Requirement already satisfied: python-binance in /home/kubilaybey/anaconda3/lib/python3.12/site-packages (1.0.27)\n",
      "Requirement already satisfied: datetime in /home/kubilaybey/anaconda3/lib/python3.12/site-packages (5.5)\n",
      "Requirement already satisfied: numpy>=1.26.0 in /home/kubilaybey/anaconda3/lib/python3.12/site-packages (from pandas) (1.26.4)\n",
      "Requirement already satisfied: python-dateutil>=2.8.2 in /home/kubilaybey/anaconda3/lib/python3.12/site-packages (from pandas) (2.9.0.post0)\n",
      "Requirement already satisfied: pytz>=2020.1 in /home/kubilaybey/anaconda3/lib/python3.12/site-packages (from pandas) (2024.1)\n",
      "Requirement already satisfied: tzdata>=2022.7 in /home/kubilaybey/anaconda3/lib/python3.12/site-packages (from pandas) (2023.3)\n",
      "Requirement already satisfied: requests in /home/kubilaybey/anaconda3/lib/python3.12/site-packages (from python-binance) (2.32.3)\n",
      "Requirement already satisfied: six in /home/kubilaybey/anaconda3/lib/python3.12/site-packages (from python-binance) (1.16.0)\n",
      "Requirement already satisfied: dateparser in /home/kubilaybey/anaconda3/lib/python3.12/site-packages (from python-binance) (1.2.0)\n",
      "Requirement already satisfied: aiohttp in /home/kubilaybey/anaconda3/lib/python3.12/site-packages (from python-binance) (3.10.5)\n",
      "Requirement already satisfied: websockets in /home/kubilaybey/anaconda3/lib/python3.12/site-packages (from python-binance) (14.1)\n",
      "Requirement already satisfied: pycryptodome in /home/kubilaybey/anaconda3/lib/python3.12/site-packages (from python-binance) (3.21.0)\n",
      "Requirement already satisfied: zope.interface in /home/kubilaybey/anaconda3/lib/python3.12/site-packages (from datetime) (5.4.0)\n",
      "Requirement already satisfied: aiohappyeyeballs>=2.3.0 in /home/kubilaybey/anaconda3/lib/python3.12/site-packages (from aiohttp->python-binance) (2.4.0)\n",
      "Requirement already satisfied: aiosignal>=1.1.2 in /home/kubilaybey/anaconda3/lib/python3.12/site-packages (from aiohttp->python-binance) (1.2.0)\n",
      "Requirement already satisfied: attrs>=17.3.0 in /home/kubilaybey/anaconda3/lib/python3.12/site-packages (from aiohttp->python-binance) (23.1.0)\n",
      "Requirement already satisfied: frozenlist>=1.1.1 in /home/kubilaybey/anaconda3/lib/python3.12/site-packages (from aiohttp->python-binance) (1.4.0)\n",
      "Requirement already satisfied: multidict<7.0,>=4.5 in /home/kubilaybey/anaconda3/lib/python3.12/site-packages (from aiohttp->python-binance) (6.0.4)\n",
      "Requirement already satisfied: yarl<2.0,>=1.0 in /home/kubilaybey/anaconda3/lib/python3.12/site-packages (from aiohttp->python-binance) (1.11.0)\n",
      "Requirement already satisfied: regex!=2019.02.19,!=2021.8.27 in /home/kubilaybey/anaconda3/lib/python3.12/site-packages (from dateparser->python-binance) (2024.9.11)\n",
      "Requirement already satisfied: tzlocal in /home/kubilaybey/anaconda3/lib/python3.12/site-packages (from dateparser->python-binance) (5.2)\n",
      "Requirement already satisfied: charset-normalizer<4,>=2 in /home/kubilaybey/anaconda3/lib/python3.12/site-packages (from requests->python-binance) (3.3.2)\n",
      "Requirement already satisfied: idna<4,>=2.5 in /home/kubilaybey/anaconda3/lib/python3.12/site-packages (from requests->python-binance) (3.7)\n",
      "Requirement already satisfied: urllib3<3,>=1.21.1 in /home/kubilaybey/anaconda3/lib/python3.12/site-packages (from requests->python-binance) (2.2.3)\n",
      "Requirement already satisfied: certifi>=2017.4.17 in /home/kubilaybey/anaconda3/lib/python3.12/site-packages (from requests->python-binance) (2024.12.14)\n",
      "Requirement already satisfied: setuptools in /home/kubilaybey/anaconda3/lib/python3.12/site-packages (from zope.interface->datetime) (75.1.0)\n",
      "Note: you may need to restart the kernel to use updated packages.\n"
     ]
    }
   ],
   "source": [
    "pip install pandas python-binance datetime"
   ]
  },
  {
   "cell_type": "code",
   "execution_count": 2,
   "id": "4c6a99ad-54b8-4fa1-a6af-f5fa833b7339",
   "metadata": {},
   "outputs": [],
   "source": [
    "import os \n",
    "\n",
    "with open(\"../binance.txt\", \"r\", encoding=\"utf-8\") as file:\n",
    "    lines = file.readlines()\n",
    "    api_secret = lines[0].strip()\n",
    "    api_key = lines[1].strip()\n"
   ]
  },
  {
   "cell_type": "code",
   "execution_count": 3,
   "id": "6a2c9ef6-6ac4-4c4f-ba0e-9529cd94301b",
   "metadata": {},
   "outputs": [],
   "source": [
    "from binance.client import Client\n",
    "\n",
    "class Binance_Libs:\n",
    "    def __init__(self):\n",
    "        self.api_key = api_key\n",
    "        self.api_secret = api_secret\n",
    "        self.client = Client(api_key, api_secret)\n"
   ]
  },
  {
   "cell_type": "code",
   "execution_count": 4,
   "id": "dbf542bc-6054-4795-bda5-fc9f5eba9bd3",
   "metadata": {},
   "outputs": [],
   "source": [
    "from datetime import datetime, timedelta\n",
    "class Candles:\n",
    "    def __init__(self, api_client):\n",
    "        self.client = api_client\n",
    "    \n",
    "    async def get_stochastic_klines(self, symbol, kline_list, window=14, K_length=5, K_smoothing=5, D_smoothing=5):\n",
    "        try:\n",
    "            start_time = datetime.now() - timedelta(days=100)\n",
    "            start_time_timestamp = int(start_time.timestamp()) * 1000\n",
    "    \n",
    "            loop = asyncio.get_event_loop()\n",
    "            klines = await loop.run_in_executor(None, self.client.get_historical_klines, symbol,\n",
    "                                                        self.client.KLINE_INTERVAL_1HOUR,\n",
    "                                                str(start_time_timestamp), str(datetime.now()))\n",
    "            \n",
    "            close_prices = [float(kline[4]) for kline in klines]\n",
    "            highest_high = [float(kline[2]) for kline in klines]\n",
    "            lowest_low = [float(kline[3]) for kline in klines]\n",
    "\n",
    "            if klines:\n",
    "                kline_list.append([symbol, close_prices, highest_high, lowest_low])\n",
    "\n",
    "            return kline_list\n",
    "    \n",
    "        except Exception as e:\n",
    "            print(f\"{symbol}: Hata oluştu {e}\")"
   ]
  },
  {
   "cell_type": "code",
   "execution_count": 5,
   "id": "c824a166-3a39-4970-92df-829716435b94",
   "metadata": {},
   "outputs": [
    {
     "name": "stdout",
     "output_type": "stream",
     "text": [
      "BBR ['BTCUSDT', 'ETHUSDT', 'BCHUSDT', 'XRPUSDT', 'EOSUSDT', 'LTCUSDT', 'TRXUSDT', 'ETCUSDT', 'LINKUSDT', 'XLMUSDT', 'ADAUSDT', 'XMRUSDT', 'DASHUSDT', 'ZECUSDT', 'XTZUSDT', 'BNBUSDT', 'ATOMUSDT', 'ONTUSDT', 'IOTAUSDT', 'BATUSDT', 'VETUSDT', 'NEOUSDT', 'QTUMUSDT', 'IOSTUSDT', 'THETAUSDT', 'ALGOUSDT', 'ZILUSDT', 'KNCUSDT', 'ZRXUSDT', 'COMPUSDT', 'OMGUSDT', 'DOGEUSDT', 'SXPUSDT', 'KAVAUSDT', 'BANDUSDT', 'RLCUSDT', 'WAVESUSDT', 'MKRUSDT', 'SNXUSDT', 'DOTUSDT', 'DEFIUSDT', 'YFIUSDT', 'BALUSDT', 'CRVUSDT', 'TRBUSDT', 'RUNEUSDT', 'SUSHIUSDT', 'EGLDUSDT', 'SOLUSDT', 'ICXUSDT', 'STORJUSDT', 'BLZUSDT', 'UNIUSDT', 'AVAXUSDT', 'FTMUSDT', 'ENJUSDT', 'FLMUSDT', 'RENUSDT', 'KSMUSDT', 'NEARUSDT', 'AAVEUSDT', 'FILUSDT', 'RSRUSDT', 'LRCUSDT', 'OCEANUSDT', 'CVCUSDT', 'BELUSDT', 'CTKUSDT', 'AXSUSDT', 'ALPHAUSDT', 'ZENUSDT', 'SKLUSDT', 'GRTUSDT', '1INCHUSDT', 'CHZUSDT', 'SANDUSDT', 'ANKRUSDT', 'LITUSDT', 'UNFIUSDT', 'REEFUSDT', 'RVNUSDT', 'SFPUSDT', 'XEMUSDT', 'BTCSTUSDT', 'COTIUSDT', 'CHRUSDT', 'MANAUSDT', 'ALICEUSDT', 'HBARUSDT', 'ONEUSDT', 'LINAUSDT', 'STMXUSDT', 'DENTUSDT', 'CELRUSDT', 'HOTUSDT', 'MTLUSDT', 'OGNUSDT', 'NKNUSDT', 'SCUSDT', 'DGBUSDT', '1000SHIBUSDT', 'BAKEUSDT', 'GTCUSDT', 'BTCDOMUSDT', 'IOTXUSDT', 'RAYUSDT', 'C98USDT', 'MASKUSDT', 'ATAUSDT', 'DYDXUSDT', '1000XECUSDT', 'GALAUSDT', 'CELOUSDT', 'ARUSDT', 'KLAYUSDT', 'ARPAUSDT', 'CTSIUSDT', 'LPTUSDT', 'ENSUSDT', 'PEOPLEUSDT', 'ROSEUSDT', 'DUSKUSDT', 'FLOWUSDT', 'IMXUSDT', 'API3USDT', 'GMTUSDT', 'APEUSDT', 'WOOUSDT', 'FTTUSDT', 'JASMYUSDT', 'DARUSDT', 'OPUSDT', 'INJUSDT', 'STGUSDT', 'SPELLUSDT', '1000LUNCUSDT', 'LUNA2USDT', 'LDOUSDT', 'CVXUSDT', 'ICPUSDT', 'APTUSDT', 'QNTUSDT', 'FETUSDT', 'FXSUSDT', 'HOOKUSDT', 'MAGICUSDT', 'TUSDT', 'HIGHUSDT', 'MINAUSDT', 'ASTRUSDT', 'AGIXUSDT', 'PHBUSDT', 'GMXUSDT', 'CFXUSDT', 'STXUSDT', 'BNXUSDT', 'ACHUSDT', 'SSVUSDT', 'CKBUSDT', 'PERPUSDT', 'TRUUSDT', 'LQTYUSDT', 'USDCUSDT', 'IDUSDT', 'ARBUSDT', 'JOEUSDT', 'TLMUSDT', 'AMBUSDT', 'LEVERUSDT', 'RDNTUSDT', 'HFTUSDT', 'XVSUSDT', 'BLURUSDT', 'EDUUSDT', 'IDEXUSDT', 'SUIUSDT', '1000PEPEUSDT', '1000FLOKIUSDT', 'UMAUSDT', 'RADUSDT', 'KEYUSDT', 'COMBOUSDT', 'NMRUSDT', 'MAVUSDT', 'MDTUSDT', 'XVGUSDT', 'WLDUSDT', 'PENDLEUSDT', 'ARKMUSDT', 'AGLDUSDT', 'YGGUSDT', 'DODOXUSDT', 'BNTUSDT', 'OXTUSDT', 'SEIUSDT', 'CYBERUSDT', 'HIFIUSDT', 'ARKUSDT', 'GLMRUSDT', 'BICOUSDT', 'STRAXUSDT', 'LOOMUSDT', 'BIGTIMEUSDT', 'BONDUSDT', 'ORBSUSDT', 'STPTUSDT', 'WAXPUSDT', 'BSVUSDT', 'RIFUSDT', 'POLYXUSDT', 'GASUSDT', 'POWRUSDT', 'SLPUSDT', 'TIAUSDT', 'SNTUSDT', 'CAKEUSDT', 'MEMEUSDT', 'TWTUSDT', 'TOKENUSDT', 'ORDIUSDT', 'STEEMUSDT', 'BADGERUSDT', 'ILVUSDT', 'NTRNUSDT', 'KASUSDT', 'BEAMXUSDT', '1000BONKUSDT', 'PYTHUSDT', 'SUPERUSDT', 'USTCUSDT', 'ONGUSDT', 'ETHWUSDT', 'JTOUSDT', '1000SATSUSDT', 'AUCTIONUSDT', '1000RATSUSDT', 'ACEUSDT', 'MOVRUSDT', 'NFPUSDT', 'AIUSDT', 'XAIUSDT', 'WIFUSDT', 'MANTAUSDT', 'ONDOUSDT', 'LSKUSDT', 'ALTUSDT', 'JUPUSDT', 'ZETAUSDT', 'RONINUSDT', 'DYMUSDT', 'OMUSDT', 'PIXELUSDT', 'STRKUSDT', 'MAVIAUSDT', 'GLMUSDT', 'PORTALUSDT', 'TONUSDT', 'AXLUSDT', 'MYROUSDT', 'METISUSDT', 'AEVOUSDT', 'VANRYUSDT', 'BOMEUSDT', 'ETHFIUSDT', 'ENAUSDT', 'WUSDT', 'TNSRUSDT', 'SAGAUSDT', 'TAOUSDT', 'OMNIUSDT', 'REZUSDT', 'BBUSDT', 'NOTUSDT', 'TURBOUSDT', 'IOUSDT', 'ZKUSDT', 'MEWUSDT', 'LISTAUSDT', 'ZROUSDT', 'RENDERUSDT', 'BANANAUSDT', 'RAREUSDT', 'GUSDT', 'SYNUSDT', 'SYSUSDT', 'VOXELUSDT', 'BRETTUSDT', 'ALPACAUSDT', 'POPCATUSDT', 'SUNUSDT', 'VIDTUSDT', 'NULSUSDT', 'DOGSUSDT', 'MBOXUSDT', 'CHESSUSDT', 'FLUXUSDT', 'BSWUSDT', 'QUICKUSDT', 'NEIROETHUSDT', 'RPLUSDT', 'AERGOUSDT', 'POLUSDT', 'UXLINKUSDT', '1MBABYDOGEUSDT', 'NEIROUSDT', 'KDAUSDT', 'FIDAUSDT', 'FIOUSDT', 'CATIUSDT', 'GHSTUSDT', 'LOKAUSDT', 'HMSTRUSDT', 'REIUSDT', 'COSUSDT', 'EIGENUSDT', 'DIAUSDT', '1000CATUSDT', 'SCRUSDT', 'GOATUSDT', 'MOODENGUSDT', 'SAFEUSDT', 'SANTOSUSDT', 'TROYUSDT', 'PONKEUSDT', 'COWUSDT', 'CETUSUSDT', '1000000MOGUSDT', 'GRASSUSDT', 'DRIFTUSDT', 'SWELLUSDT', 'ACTUSDT', 'PNUTUSDT', 'HIPPOUSDT', '1000XUSDT', 'DEGENUSDT', 'BANUSDT', 'AKTUSDT', 'SLERFUSDT', 'SCRTUSDT', '1000CHEEMSUSDT', '1000WHYUSDT', 'THEUSDT', 'MORPHOUSDT', 'CHILLGUYUSDT', 'KAIAUSDT', 'AEROUSDT', 'ACXUSDT', 'ORCAUSDT', 'MOVEUSDT', 'RAYSOLUSDT', 'KOMAUSDT', 'VIRTUALUSDT', 'SPXUSDT', 'MEUSDT', 'AVAUSDT', 'DEGOUSDT', 'VELODROMEUSDT', 'MOCAUSDT', 'VANAUSDT', 'PENGUUSDT', 'LUMIAUSDT', 'USUALUSDT', 'AIXBTUSDT', 'FARTCOINUSDT', 'KMNOUSDT', 'CGPTUSDT', 'HIVEUSDT', 'DEXEUSDT', 'PHAUSDT', 'DFUSDT', 'GRIFFAINUSDT', 'AI16ZUSDT', 'ZEREBROUSDT', 'BIOUSDT', 'COOKIEUSDT', 'ALCHUSDT', 'SWARMSUSDT', 'SONICUSDT', 'DUSDT', 'PROMUSDT', 'SUSDT', 'SOLVUSDT', 'ARCUSDT', 'AVAAIUSDT', 'TRUMPUSDT', 'MELANIAUSDT', 'VTHOUSDT', 'ANIMEUSDT', 'VINEUSDT', 'PIPPINUSDT', 'VVVUSDT']\n"
     ]
    }
   ],
   "source": [
    "binance_libs = Binance_Libs()\n",
    "candles_instance = Candles(binance_libs.client)\n",
    "\n",
    "info = binance_libs.client.futures_exchange_info()\n",
    "symbols_usdt = [symbol['symbol'] for symbol in info['symbols'] if symbol['symbol'].endswith('USDT')]\n",
    "\n",
    "print(\"BBR\", symbols_usdt)"
   ]
  },
  {
   "cell_type": "code",
   "execution_count": 6,
   "id": "915bcfd2-bf12-4adb-b0e3-2d3e55637835",
   "metadata": {},
   "outputs": [
    {
     "name": "stdout",
     "output_type": "stream",
     "text": [
      "DEFIUSDT: Hata oluştu APIError(code=-1121): Invalid symbol.\n",
      "1000SHIBUSDT: Hata oluştu APIError(code=-1121): Invalid symbol.\n",
      "BTCDOMUSDT: Hata oluştu APIError(code=-1121): Invalid symbol.\n",
      "1000XECUSDT: Hata oluştu APIError(code=-1121): Invalid symbol.\n",
      "1000LUNCUSDT: Hata oluştu APIError(code=-1121): Invalid symbol.\n",
      "LUNA2USDT: Hata oluştu APIError(code=-1121): Invalid symbol.\n",
      "1000PEPEUSDT: Hata oluştu APIError(code=-1121): Invalid symbol.\n",
      "1000FLOKIUSDT: Hata oluştu APIError(code=-1121): Invalid symbol.\n",
      "DODOXUSDT: Hata oluştu APIError(code=-1121): Invalid symbol.\n",
      "BIGTIMEUSDT: Hata oluştu APIError(code=-1121): Invalid symbol.\n",
      "BSVUSDT: Hata oluştu APIError(code=-1121): Invalid symbol.\n",
      "ORBSUSDT: Hata oluştu APIError(code=-1121): Invalid symbol.\n",
      "TOKENUSDT: Hata oluştu APIError(code=-1121): Invalid symbol.\n",
      "KASUSDT: Hata oluştu APIError(code=-1121): Invalid symbol.\n",
      "1000BONKUSDT: Hata oluştu APIError(code=-1121): Invalid symbol.\n",
      "ETHWUSDT: Hata oluştu APIError(code=-1121): Invalid symbol.\n",
      "1000RATSUSDT: Hata oluştu APIError(code=-1121): Invalid symbol.\n",
      "ONDOUSDT: Hata oluştu APIError(code=-1121): Invalid symbol.\n",
      "ZETAUSDT: Hata oluştu APIError(code=-1121): Invalid symbol.\n",
      "MAVIAUSDT: Hata oluştu APIError(code=-1121): Invalid symbol.\n",
      "MYROUSDT: Hata oluştu APIError(code=-1121): Invalid symbol.\n",
      "MEWUSDT: Hata oluştu APIError(code=-1121): Invalid symbol.\n",
      "BRETTUSDT: Hata oluştu APIError(code=-1121): Invalid symbol.\n",
      "POPCATUSDT: Hata oluştu APIError(code=-1121): Invalid symbol.\n",
      "NEIROETHUSDT: Hata oluştu APIError(code=-1121): Invalid symbol.\n",
      "UXLINKUSDT: Hata oluştu APIError(code=-1121): Invalid symbol.\n",
      "GOATUSDT: Hata oluştu APIError(code=-1121): Invalid symbol.\n",
      "MOODENGUSDT: Hata oluştu APIError(code=-1121): Invalid symbol.\n",
      "SAFEUSDT: Hata oluştu APIError(code=-1121): Invalid symbol.\n",
      "PONKEUSDT: Hata oluştu APIError(code=-1121): Invalid symbol.\n",
      "1000000MOGUSDT: Hata oluştu APIError(code=-1121): Invalid symbol.\n",
      "GRASSUSDT: Hata oluştu APIError(code=-1121): Invalid symbol.\n",
      "DRIFTUSDT: Hata oluştu APIError(code=-1121): Invalid symbol.\n",
      "SWELLUSDT: Hata oluştu APIError(code=-1121): Invalid symbol.\n",
      "HIPPOUSDT: Hata oluştu APIError(code=-1121): Invalid symbol.\n",
      "1000XUSDT: Hata oluştu APIError(code=-1121): Invalid symbol.\n",
      "DEGENUSDT: Hata oluştu APIError(code=-1121): Invalid symbol.\n",
      "BANUSDT: Hata oluştu APIError(code=-1121): Invalid symbol.\n",
      "AKTUSDT: Hata oluştu APIError(code=-1121): Invalid symbol.\n",
      "SLERFUSDT: Hata oluştu APIError(code=-1121): Invalid symbol.\n",
      "1000CHEEMSUSDT: Hata oluştu APIError(code=-1121): Invalid symbol.\n",
      "1000WHYUSDT: Hata oluştu APIError(code=-1121): Invalid symbol.\n",
      "MORPHOUSDT: Hata oluştu APIError(code=-1121): Invalid symbol.\n",
      "CHILLGUYUSDT: Hata oluştu APIError(code=-1121): Invalid symbol.\n",
      "AEROUSDT: Hata oluştu APIError(code=-1121): Invalid symbol.\n",
      "RAYSOLUSDT: Hata oluştu APIError(code=-1121): Invalid symbol.\n",
      "KOMAUSDT: Hata oluştu APIError(code=-1121): Invalid symbol.\n",
      "VIRTUALUSDT: Hata oluştu APIError(code=-1121): Invalid symbol.\n",
      "SPXUSDT: Hata oluştu APIError(code=-1121): Invalid symbol.\n",
      "MOCAUSDT: Hata oluştu APIError(code=-1121): Invalid symbol.\n",
      "FARTCOINUSDT: Hata oluştu APIError(code=-1121): Invalid symbol.\n",
      "KMNOUSDT: Hata oluştu APIError(code=-1121): Invalid symbol.\n",
      "GRIFFAINUSDT: Hata oluştu APIError(code=-1121): Invalid symbol.\n",
      "AI16ZUSDT: Hata oluştu APIError(code=-1121): Invalid symbol.\n",
      "ZEREBROUSDT: Hata oluştu APIError(code=-1121): Invalid symbol.\n",
      "ALCHUSDT: Hata oluştu APIError(code=-1121): Invalid symbol.\n",
      "SWARMSUSDT: Hata oluştu APIError(code=-1121): Invalid symbol.\n",
      "SONICUSDT: Hata oluştu APIError(code=-1121): Invalid symbol.\n",
      "ARCUSDT: Hata oluştu APIError(code=-1121): Invalid symbol.\n",
      "AVAAIUSDT: Hata oluştu APIError(code=-1121): Invalid symbol.\n",
      "MELANIAUSDT: Hata oluştu APIError(code=-1121): Invalid symbol.\n",
      "VINEUSDT: Hata oluştu APIError(code=-1121): Invalid symbol.\n",
      "PIPPINUSDT: Hata oluştu APIError(code=-1121): Invalid symbol.\n",
      "VVVUSDT: Hata oluştu APIError(code=-1121): Invalid symbol.\n"
     ]
    }
   ],
   "source": [
    "import asyncio\n",
    "\n",
    "kline_list = []\n",
    "\n",
    "results = await asyncio.gather(*(candles_instance.get_stochastic_klines(symbol, kline_list) for symbol in symbols_usdt))\n"
   ]
  },
  {
   "cell_type": "code",
   "execution_count": 7,
   "id": "2aa955bd-4358-4622-9ef2-03f09521351e",
   "metadata": {},
   "outputs": [],
   "source": [
    "import pandas as pd\n",
    "\n",
    "for kline_data in kline_list:\n",
    "    symbol = kline_data[0]\n",
    "    close_price = kline_data[1]\n",
    "    high_price = kline_data[2]\n",
    "    low_price = kline_data[3]\n",
    "\n",
    "    # DataFrame oluşturma\n",
    "    data = pd.DataFrame({\n",
    "        'Symbol': [symbol],\n",
    "        'Close': [close_price],\n",
    "        'High': [high_price],\n",
    "        'Low': [low_price]\n",
    "    })\n",
    "\n",
    "\n",
    "    data.to_parquet(f\"data/{symbol}.parquet\", index = False) \n",
    "    data.to_pickle(f\"data/{symbol}.pkl\")"
   ]
  },
  {
   "cell_type": "code",
   "execution_count": 10,
   "id": "2b8c4a19-1ce6-46f4-8a01-104ae54614fe",
   "metadata": {},
   "outputs": [
    {
     "name": "stdout",
     "output_type": "stream",
     "text": [
      "    Symbol                                              Close  \\\n",
      "0  ETHUSDT  [2576.6, 2580.03, 2581.56, 2580.93, 2571.6, 25...   \n",
      "\n",
      "                                                High  \\\n",
      "0  [2611.52, 2582.75, 2588.8, 2587.56, 2583.37, 2...   \n",
      "\n",
      "                                                 Low  \n",
      "0  [2571.57, 2563.73, 2578.22, 2578.0, 2556.8, 25...  \n"
     ]
    }
   ],
   "source": [
    "data = pd.read_pickle(\"data/ETHUSDT.pkl\")\n",
    "print(data)"
   ]
  },
  {
   "cell_type": "code",
   "execution_count": null,
   "id": "fe4d6480-19d6-454a-b554-079bd07f0de0",
   "metadata": {},
   "outputs": [],
   "source": []
  }
 ],
 "metadata": {
  "kernelspec": {
   "display_name": "Python [conda env:base] *",
   "language": "python",
   "name": "conda-base-py"
  },
  "language_info": {
   "codemirror_mode": {
    "name": "ipython",
    "version": 3
   },
   "file_extension": ".py",
   "mimetype": "text/x-python",
   "name": "python",
   "nbconvert_exporter": "python",
   "pygments_lexer": "ipython3",
   "version": "3.12.7"
  }
 },
 "nbformat": 4,
 "nbformat_minor": 5
}
